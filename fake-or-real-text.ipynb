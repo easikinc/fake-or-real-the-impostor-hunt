{
 "cells": [
  {
   "cell_type": "code",
   "execution_count": 1,
   "id": "efd0418a",
   "metadata": {
    "execution": {
     "iopub.execute_input": "2025-09-08T07:17:25.061364Z",
     "iopub.status.busy": "2025-09-08T07:17:25.060701Z",
     "iopub.status.idle": "2025-09-08T07:17:27.680916Z",
     "shell.execute_reply": "2025-09-08T07:17:27.680333Z"
    },
    "papermill": {
     "duration": 2.624834,
     "end_time": "2025-09-08T07:17:27.682316",
     "exception": false,
     "start_time": "2025-09-08T07:17:25.057482",
     "status": "completed"
    },
    "tags": []
   },
   "outputs": [],
   "source": [
    "import os\n",
    "import pandas as pd\n",
    "from sklearn.feature_extraction.text import TfidfVectorizer\n",
    "from sklearn.svm import LinearSVC"
   ]
  },
  {
   "cell_type": "code",
   "execution_count": 2,
   "id": "49cb4b81",
   "metadata": {
    "execution": {
     "iopub.execute_input": "2025-09-08T07:17:27.687306Z",
     "iopub.status.busy": "2025-09-08T07:17:27.686706Z",
     "iopub.status.idle": "2025-09-08T07:17:27.701915Z",
     "shell.execute_reply": "2025-09-08T07:17:27.701247Z"
    },
    "papermill": {
     "duration": 0.018545,
     "end_time": "2025-09-08T07:17:27.703060",
     "exception": false,
     "start_time": "2025-09-08T07:17:27.684515",
     "status": "completed"
    },
    "tags": []
   },
   "outputs": [],
   "source": [
    "# Paths (adjust for Kaggle)\n",
    "train_dir = '/kaggle/input/fake-or-real-the-impostor-hunt/data/train'\n",
    "test_dir = '/kaggle/input/fake-or-real-the-impostor-hunt/data/test'\n",
    "train_labels_path = '/kaggle/input/fake-or-real-the-impostor-hunt/data/train.csv'\n",
    "# Load train CSV\n",
    "train_labels_df = pd.read_csv(train_labels_path)"
   ]
  },
  {
   "cell_type": "code",
   "execution_count": 3,
   "id": "acf24aea",
   "metadata": {
    "execution": {
     "iopub.execute_input": "2025-09-08T07:17:27.707333Z",
     "iopub.status.busy": "2025-09-08T07:17:27.706916Z",
     "iopub.status.idle": "2025-09-08T07:17:28.663446Z",
     "shell.execute_reply": "2025-09-08T07:17:28.662632Z"
    },
    "papermill": {
     "duration": 0.96011,
     "end_time": "2025-09-08T07:17:28.664833",
     "exception": false,
     "start_time": "2025-09-08T07:17:27.704723",
     "status": "completed"
    },
    "tags": []
   },
   "outputs": [],
   "source": [
    "# Lists for training\n",
    "train_texts = []\n",
    "train_labels = []\n",
    "\n",
    "# Prepare training data: both files per article labeled correctly\n",
    "for _, row in train_labels_df.iterrows():\n",
    "    art_num = row['id']\n",
    "    real_file_num = row['real_text_id']\n",
    "    for file_num in [1, 2]:\n",
    "        file_path = os.path.join(train_dir, f'article_{art_num:04d}', f'file_{file_num}.txt')\n",
    "        with open(file_path, 'r', encoding='utf-8') as f:\n",
    "            text = f.read()\n",
    "            label = 'real' if file_num == real_file_num else 'fake'\n",
    "            train_texts.append(text)\n",
    "            train_labels.append(label)\n",
    "\n",
    "# Vectorize texts\n",
    "vectorizer = TfidfVectorizer(stop_words='english', max_df=0.7)\n",
    "X_train = vectorizer.fit_transform(train_texts)"
   ]
  },
  {
   "cell_type": "code",
   "execution_count": 4,
   "id": "e5819707",
   "metadata": {
    "execution": {
     "iopub.execute_input": "2025-09-08T07:17:28.669128Z",
     "iopub.status.busy": "2025-09-08T07:17:28.668884Z",
     "iopub.status.idle": "2025-09-08T07:17:28.683371Z",
     "shell.execute_reply": "2025-09-08T07:17:28.682782Z"
    },
    "papermill": {
     "duration": 0.017849,
     "end_time": "2025-09-08T07:17:28.684543",
     "exception": false,
     "start_time": "2025-09-08T07:17:28.666694",
     "status": "completed"
    },
    "tags": []
   },
   "outputs": [
    {
     "data": {
      "text/html": [
       "<style>#sk-container-id-1 {color: black;background-color: white;}#sk-container-id-1 pre{padding: 0;}#sk-container-id-1 div.sk-toggleable {background-color: white;}#sk-container-id-1 label.sk-toggleable__label {cursor: pointer;display: block;width: 100%;margin-bottom: 0;padding: 0.3em;box-sizing: border-box;text-align: center;}#sk-container-id-1 label.sk-toggleable__label-arrow:before {content: \"▸\";float: left;margin-right: 0.25em;color: #696969;}#sk-container-id-1 label.sk-toggleable__label-arrow:hover:before {color: black;}#sk-container-id-1 div.sk-estimator:hover label.sk-toggleable__label-arrow:before {color: black;}#sk-container-id-1 div.sk-toggleable__content {max-height: 0;max-width: 0;overflow: hidden;text-align: left;background-color: #f0f8ff;}#sk-container-id-1 div.sk-toggleable__content pre {margin: 0.2em;color: black;border-radius: 0.25em;background-color: #f0f8ff;}#sk-container-id-1 input.sk-toggleable__control:checked~div.sk-toggleable__content {max-height: 200px;max-width: 100%;overflow: auto;}#sk-container-id-1 input.sk-toggleable__control:checked~label.sk-toggleable__label-arrow:before {content: \"▾\";}#sk-container-id-1 div.sk-estimator input.sk-toggleable__control:checked~label.sk-toggleable__label {background-color: #d4ebff;}#sk-container-id-1 div.sk-label input.sk-toggleable__control:checked~label.sk-toggleable__label {background-color: #d4ebff;}#sk-container-id-1 input.sk-hidden--visually {border: 0;clip: rect(1px 1px 1px 1px);clip: rect(1px, 1px, 1px, 1px);height: 1px;margin: -1px;overflow: hidden;padding: 0;position: absolute;width: 1px;}#sk-container-id-1 div.sk-estimator {font-family: monospace;background-color: #f0f8ff;border: 1px dotted black;border-radius: 0.25em;box-sizing: border-box;margin-bottom: 0.5em;}#sk-container-id-1 div.sk-estimator:hover {background-color: #d4ebff;}#sk-container-id-1 div.sk-parallel-item::after {content: \"\";width: 100%;border-bottom: 1px solid gray;flex-grow: 1;}#sk-container-id-1 div.sk-label:hover label.sk-toggleable__label {background-color: #d4ebff;}#sk-container-id-1 div.sk-serial::before {content: \"\";position: absolute;border-left: 1px solid gray;box-sizing: border-box;top: 0;bottom: 0;left: 50%;z-index: 0;}#sk-container-id-1 div.sk-serial {display: flex;flex-direction: column;align-items: center;background-color: white;padding-right: 0.2em;padding-left: 0.2em;position: relative;}#sk-container-id-1 div.sk-item {position: relative;z-index: 1;}#sk-container-id-1 div.sk-parallel {display: flex;align-items: stretch;justify-content: center;background-color: white;position: relative;}#sk-container-id-1 div.sk-item::before, #sk-container-id-1 div.sk-parallel-item::before {content: \"\";position: absolute;border-left: 1px solid gray;box-sizing: border-box;top: 0;bottom: 0;left: 50%;z-index: -1;}#sk-container-id-1 div.sk-parallel-item {display: flex;flex-direction: column;z-index: 1;position: relative;background-color: white;}#sk-container-id-1 div.sk-parallel-item:first-child::after {align-self: flex-end;width: 50%;}#sk-container-id-1 div.sk-parallel-item:last-child::after {align-self: flex-start;width: 50%;}#sk-container-id-1 div.sk-parallel-item:only-child::after {width: 0;}#sk-container-id-1 div.sk-dashed-wrapped {border: 1px dashed gray;margin: 0 0.4em 0.5em 0.4em;box-sizing: border-box;padding-bottom: 0.4em;background-color: white;}#sk-container-id-1 div.sk-label label {font-family: monospace;font-weight: bold;display: inline-block;line-height: 1.2em;}#sk-container-id-1 div.sk-label-container {text-align: center;}#sk-container-id-1 div.sk-container {/* jupyter's `normalize.less` sets `[hidden] { display: none; }` but bootstrap.min.css set `[hidden] { display: none !important; }` so we also need the `!important` here to be able to override the default hidden behavior on the sphinx rendered scikit-learn.org. See: https://github.com/scikit-learn/scikit-learn/issues/21755 */display: inline-block !important;position: relative;}#sk-container-id-1 div.sk-text-repr-fallback {display: none;}</style><div id=\"sk-container-id-1\" class=\"sk-top-container\"><div class=\"sk-text-repr-fallback\"><pre>LinearSVC()</pre><b>In a Jupyter environment, please rerun this cell to show the HTML representation or trust the notebook. <br />On GitHub, the HTML representation is unable to render, please try loading this page with nbviewer.org.</b></div><div class=\"sk-container\" hidden><div class=\"sk-item\"><div class=\"sk-estimator sk-toggleable\"><input class=\"sk-toggleable__control sk-hidden--visually\" id=\"sk-estimator-id-1\" type=\"checkbox\" checked><label for=\"sk-estimator-id-1\" class=\"sk-toggleable__label sk-toggleable__label-arrow\">LinearSVC</label><div class=\"sk-toggleable__content\"><pre>LinearSVC()</pre></div></div></div></div></div>"
      ],
      "text/plain": [
       "LinearSVC()"
      ]
     },
     "execution_count": 4,
     "metadata": {},
     "output_type": "execute_result"
    }
   ],
   "source": [
    "# Train LinearSVC\n",
    "clf = LinearSVC()\n",
    "clf.fit(X_train, train_labels)"
   ]
  },
  {
   "cell_type": "code",
   "execution_count": 5,
   "id": "665d04f7",
   "metadata": {
    "execution": {
     "iopub.execute_input": "2025-09-08T07:17:28.688949Z",
     "iopub.status.busy": "2025-09-08T07:17:28.688734Z",
     "iopub.status.idle": "2025-09-08T07:17:40.569012Z",
     "shell.execute_reply": "2025-09-08T07:17:40.568430Z"
    },
    "papermill": {
     "duration": 11.883884,
     "end_time": "2025-09-08T07:17:40.570274",
     "exception": false,
     "start_time": "2025-09-08T07:17:28.686390",
     "status": "completed"
    },
    "tags": []
   },
   "outputs": [],
   "source": [
    "predictions = {}\n",
    "# Iterate over articles in test dir\n",
    "for art_folder in sorted(os.listdir(test_dir)):\n",
    "    art_path = os.path.join(test_dir, art_folder)\n",
    "    if not os.path.isdir(art_path):\n",
    "        continue\n",
    "    art_num = int(art_folder.split('_')[1])\n",
    "    \n",
    "    texts = []\n",
    "    file_nums = [1, 2]\n",
    "    for file_num in file_nums:\n",
    "        file_path = os.path.join(art_path, f'file_{file_num}.txt')\n",
    "        with open(file_path, 'r', encoding='utf-8') as f:\n",
    "            texts.append(f.read())\n",
    "    \n",
    "    # Vectorize both files\n",
    "    X_test_files = vectorizer.transform(texts)\n",
    "    \n",
    "    # Use decision function to pick more confident \"real\"\n",
    "    distances = clf.decision_function(X_test_files)\n",
    "    best_file_idx = distances.argmax()\n",
    "    predictions[art_num] = file_nums[best_file_idx]"
   ]
  },
  {
   "cell_type": "code",
   "execution_count": 6,
   "id": "11281144",
   "metadata": {
    "execution": {
     "iopub.execute_input": "2025-09-08T07:17:40.575016Z",
     "iopub.status.busy": "2025-09-08T07:17:40.574629Z",
     "iopub.status.idle": "2025-09-08T07:17:40.585512Z",
     "shell.execute_reply": "2025-09-08T07:17:40.584903Z"
    },
    "papermill": {
     "duration": 0.014184,
     "end_time": "2025-09-08T07:17:40.586531",
     "exception": false,
     "start_time": "2025-09-08T07:17:40.572347",
     "status": "completed"
    },
    "tags": []
   },
   "outputs": [
    {
     "name": "stdout",
     "output_type": "stream",
     "text": [
      "Submission file created with one real file per article: submission.csv\n"
     ]
    }
   ],
   "source": [
    "# Prepare submission DataFrame (one row per article) \n",
    "submission_df = pd.DataFrame({\n",
    "    'id': list(predictions.keys()),\n",
    "    'real_text_id': list(predictions.values())\n",
    "}).sort_values('id')\n",
    "\n",
    "submission_df.to_csv('submission.csv', index=False)\n",
    "print(\"Submission file created with one real file per article: submission.csv\")\n"
   ]
  },
  {
   "cell_type": "code",
   "execution_count": 7,
   "id": "d99babd6",
   "metadata": {
    "execution": {
     "iopub.execute_input": "2025-09-08T07:17:40.590890Z",
     "iopub.status.busy": "2025-09-08T07:17:40.590401Z",
     "iopub.status.idle": "2025-09-08T07:17:40.608180Z",
     "shell.execute_reply": "2025-09-08T07:17:40.607608Z"
    },
    "papermill": {
     "duration": 0.02105,
     "end_time": "2025-09-08T07:17:40.609289",
     "exception": false,
     "start_time": "2025-09-08T07:17:40.588239",
     "status": "completed"
    },
    "tags": []
   },
   "outputs": [
    {
     "data": {
      "text/html": [
       "<div>\n",
       "<style scoped>\n",
       "    .dataframe tbody tr th:only-of-type {\n",
       "        vertical-align: middle;\n",
       "    }\n",
       "\n",
       "    .dataframe tbody tr th {\n",
       "        vertical-align: top;\n",
       "    }\n",
       "\n",
       "    .dataframe thead th {\n",
       "        text-align: right;\n",
       "    }\n",
       "</style>\n",
       "<table border=\"1\" class=\"dataframe\">\n",
       "  <thead>\n",
       "    <tr style=\"text-align: right;\">\n",
       "      <th></th>\n",
       "      <th>id</th>\n",
       "      <th>real_text_id</th>\n",
       "    </tr>\n",
       "  </thead>\n",
       "  <tbody>\n",
       "    <tr>\n",
       "      <th>0</th>\n",
       "      <td>0</td>\n",
       "      <td>2</td>\n",
       "    </tr>\n",
       "    <tr>\n",
       "      <th>1</th>\n",
       "      <td>1</td>\n",
       "      <td>2</td>\n",
       "    </tr>\n",
       "    <tr>\n",
       "      <th>2</th>\n",
       "      <td>2</td>\n",
       "      <td>1</td>\n",
       "    </tr>\n",
       "    <tr>\n",
       "      <th>3</th>\n",
       "      <td>3</td>\n",
       "      <td>1</td>\n",
       "    </tr>\n",
       "    <tr>\n",
       "      <th>4</th>\n",
       "      <td>4</td>\n",
       "      <td>2</td>\n",
       "    </tr>\n",
       "    <tr>\n",
       "      <th>...</th>\n",
       "      <td>...</td>\n",
       "      <td>...</td>\n",
       "    </tr>\n",
       "    <tr>\n",
       "      <th>1063</th>\n",
       "      <td>1063</td>\n",
       "      <td>1</td>\n",
       "    </tr>\n",
       "    <tr>\n",
       "      <th>1064</th>\n",
       "      <td>1064</td>\n",
       "      <td>1</td>\n",
       "    </tr>\n",
       "    <tr>\n",
       "      <th>1065</th>\n",
       "      <td>1065</td>\n",
       "      <td>1</td>\n",
       "    </tr>\n",
       "    <tr>\n",
       "      <th>1066</th>\n",
       "      <td>1066</td>\n",
       "      <td>2</td>\n",
       "    </tr>\n",
       "    <tr>\n",
       "      <th>1067</th>\n",
       "      <td>1067</td>\n",
       "      <td>2</td>\n",
       "    </tr>\n",
       "  </tbody>\n",
       "</table>\n",
       "<p>1068 rows × 2 columns</p>\n",
       "</div>"
      ],
      "text/plain": [
       "        id  real_text_id\n",
       "0        0             2\n",
       "1        1             2\n",
       "2        2             1\n",
       "3        3             1\n",
       "4        4             2\n",
       "...    ...           ...\n",
       "1063  1063             1\n",
       "1064  1064             1\n",
       "1065  1065             1\n",
       "1066  1066             2\n",
       "1067  1067             2\n",
       "\n",
       "[1068 rows x 2 columns]"
      ]
     },
     "execution_count": 7,
     "metadata": {},
     "output_type": "execute_result"
    }
   ],
   "source": [
    "df=pd.read_csv('/kaggle/working/submission.csv')\n",
    "df\n"
   ]
  }
 ],
 "metadata": {
  "kaggle": {
   "accelerator": "gpu",
   "dataSources": [
    {
     "databundleVersionId": 12964783,
     "sourceId": 105874,
     "sourceType": "competition"
    }
   ],
   "dockerImageVersionId": 31041,
   "isGpuEnabled": true,
   "isInternetEnabled": true,
   "language": "python",
   "sourceType": "notebook"
  },
  "kernelspec": {
   "display_name": "Python 3",
   "language": "python",
   "name": "python3"
  },
  "language_info": {
   "codemirror_mode": {
    "name": "ipython",
    "version": 3
   },
   "file_extension": ".py",
   "mimetype": "text/x-python",
   "name": "python",
   "nbconvert_exporter": "python",
   "pygments_lexer": "ipython3",
   "version": "3.11.11"
  },
  "papermill": {
   "default_parameters": {},
   "duration": 20.018526,
   "end_time": "2025-09-08T07:17:41.028125",
   "environment_variables": {},
   "exception": null,
   "input_path": "__notebook__.ipynb",
   "output_path": "__notebook__.ipynb",
   "parameters": {},
   "start_time": "2025-09-08T07:17:21.009599",
   "version": "2.6.0"
  }
 },
 "nbformat": 4,
 "nbformat_minor": 5
}
